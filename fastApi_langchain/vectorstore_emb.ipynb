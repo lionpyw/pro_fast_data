{
 "cells": [
  {
   "cell_type": "code",
   "execution_count": 1,
   "id": "06f9f212-1dd5-4031-84d9-6a7cb8f68dd9",
   "metadata": {},
   "outputs": [
    {
     "name": "stderr",
     "output_type": "stream",
     "text": [
      "/home/zeyn/code/fast_app/fast_ml_api/fastApi_langchain/venv/lib/python3.10/site-packages/sentence_transformers/cross_encoder/CrossEncoder.py:11: TqdmExperimentalWarning: Using `tqdm.autonotebook.tqdm` in notebook mode. Use `tqdm.tqdm` instead to force console mode (e.g. in jupyter console)\n",
      "  from tqdm.autonotebook import tqdm, trange\n",
      "/home/zeyn/code/fast_app/fast_ml_api/fastApi_langchain/venv/lib/python3.10/site-packages/transformers/tokenization_utils_base.py:1601: FutureWarning: `clean_up_tokenization_spaces` was not set. It will be set to `True` by default. This behavior will be depracted in transformers v4.45, and will be then set to `False` by default. For more details check this issue: https://github.com/huggingface/transformers/issues/31884\n",
      "  warnings.warn(\n"
     ]
    }
   ],
   "source": [
    "from embedding import *"
   ]
  },
  {
   "cell_type": "code",
   "execution_count": 2,
   "id": "555d0cf0-28a7-4f5b-a371-d6da60749846",
   "metadata": {},
   "outputs": [],
   "source": [
    "documents = [\n",
    "    \"The cat jumped over the dog\",\n",
    "    \"The cow jumped over the moon\",\n",
    "    \"The turkey ran in circles\",\n",
    "]"
   ]
  },
  {
   "cell_type": "code",
   "execution_count": 5,
   "id": "e404b82c-db88-4946-84f7-708fffa1c0bd",
   "metadata": {},
   "outputs": [],
   "source": [
    "def get_embedding(text, model=hf):\n",
    "   text = text.replace(\"\\n\", \" \")\n",
    "   return model.embed_query(text)"
   ]
  },
  {
   "cell_type": "code",
   "execution_count": 6,
   "id": "89b266a9-5d4a-41eb-b165-91547c853bfb",
   "metadata": {},
   "outputs": [],
   "source": [
    "embeddings = [get_embedding(x) for x in documents]"
   ]
  },
  {
   "cell_type": "code",
   "execution_count": 7,
   "id": "19655d9d-e24b-4dde-85bc-079234f8e490",
   "metadata": {},
   "outputs": [],
   "source": [
    "dataset = {}\n",
    "for i, embedding in enumerate(embeddings):\n",
    "    dataset[i] = embedding"
   ]
  },
  {
   "cell_type": "code",
   "execution_count": 10,
   "id": "8ebe7a20-d89b-4362-b039-740e56440af0",
   "metadata": {},
   "outputs": [
    {
     "data": {
      "text/plain": [
       "[0, 1, 2]"
      ]
     },
     "execution_count": 10,
     "metadata": {},
     "output_type": "execute_result"
    }
   ],
   "source": [
    "docs = dataset.items()\n",
    "vector_store.add_embeddings(texts=documents, embeddings=embeddings, ids=list(dataset.keys()))"
   ]
  },
  {
   "cell_type": "code",
   "execution_count": 20,
   "id": "168dac9e-4965-4ddc-9664-62a9c2951ebc",
   "metadata": {},
   "outputs": [
    {
     "data": {
      "text/plain": [
       "['6a837e60-54c3-4b7a-b2ad-f22f8ee4d919']"
      ]
     },
     "execution_count": 20,
     "metadata": {},
     "output_type": "execute_result"
    }
   ],
   "source": [
    "query_str = \"The moose sat by the dog\"\n",
    "query_embedding = get_embedding(query_str)\n",
    "\n",
    "vector_store.add_embeddings(texts=[query_str], embeddings=[query_embedding])"
   ]
  },
  {
   "cell_type": "code",
   "execution_count": 43,
   "id": "34636ee8-a141-4e92-9724-246a977ca189",
   "metadata": {},
   "outputs": [
    {
     "name": "stdout",
     "output_type": "stream",
     "text": [
      "[(Document(page_content='The cat jumped over the dog'), 0.8027104735374507), (Document(page_content='The cat jumped over the dog'), 0.8027104735374507), (Document(page_content='The cow jumped over the moon'), 0.47843650240462987)]\n",
      "[0.8027104735374507, 0.8027104735374507, 0.47843650240462987]\n"
     ]
    }
   ],
   "source": [
    "results = vector_store.similarity_search_with_relevance_scores(\"The cat jumped over the dawg\", k=3)\n",
    "print(results)\n",
    "print(sorted([result[1] for result in results], reverse=True))"
   ]
  },
  {
   "cell_type": "code",
   "execution_count": null,
   "id": "a07d763e-88b1-4d64-bbb6-4af25957f4c7",
   "metadata": {},
   "outputs": [],
   "source": []
  }
 ],
 "metadata": {
  "kernelspec": {
   "display_name": "Python 3 (ipykernel)",
   "language": "python",
   "name": "python3"
  },
  "language_info": {
   "codemirror_mode": {
    "name": "ipython",
    "version": 3
   },
   "file_extension": ".py",
   "mimetype": "text/x-python",
   "name": "python",
   "nbconvert_exporter": "python",
   "pygments_lexer": "ipython3",
   "version": "3.10.12"
  }
 },
 "nbformat": 4,
 "nbformat_minor": 5
}
